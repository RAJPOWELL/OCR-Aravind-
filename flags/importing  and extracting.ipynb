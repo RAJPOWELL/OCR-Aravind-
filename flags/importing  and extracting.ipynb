{
 "cells": [
  {
   "cell_type": "code",
   "execution_count": 40,
   "id": "c2321e8f",
   "metadata": {},
   "outputs": [],
   "source": [
    "import pytesseract"
   ]
  },
  {
   "cell_type": "code",
   "execution_count": 41,
   "id": "565d1253",
   "metadata": {},
   "outputs": [],
   "source": [
    "pytesseract.pytesseract.tesseract_cmd=r\"C:\\\\Program Files\\\\Tesseract-OCR\\\\tesseract.exe\""
   ]
  },
  {
   "cell_type": "code",
   "execution_count": 8,
   "id": "9d328e64",
   "metadata": {},
   "outputs": [],
   "source": [
    "\n",
    "import cv2"
   ]
  },
  {
   "cell_type": "code",
   "execution_count": 9,
   "id": "b01fed45",
   "metadata": {},
   "outputs": [],
   "source": [
    "img=cv2.imread(r\"C:\\Users\\MY PC\\Desktop\\flags\\7.jpg\")"
   ]
  },
  {
   "cell_type": "code",
   "execution_count": 10,
   "id": "cb2cdf7d",
   "metadata": {
    "scrolled": true
   },
   "outputs": [],
   "source": [
    "text=pytesseract.image_to_string(img,lang=\"ara\")"
   ]
  },
  {
   "cell_type": "code",
   "execution_count": 11,
   "id": "92adc11f",
   "metadata": {},
   "outputs": [
    {
     "name": "stdout",
     "output_type": "stream",
     "text": [
      "\n"
     ]
    }
   ],
   "source": [
    "print(text)\n",
    "\n"
   ]
  },
  {
   "cell_type": "code",
   "execution_count": 23,
   "id": "5aae584a",
   "metadata": {},
   "outputs": [],
   "source": [
    "img=cv2.imread(r\"C:\\Users\\MY PC\\Desktop\\flags\\6.jpg\")"
   ]
  },
  {
   "cell_type": "code",
   "execution_count": 24,
   "id": "9f6e7e37",
   "metadata": {},
   "outputs": [],
   "source": [
    "text=pytesseract.image_to_string(img,lang=\"ara\")"
   ]
  },
  {
   "cell_type": "code",
   "execution_count": 25,
   "id": "7252ae45",
   "metadata": {},
   "outputs": [
    {
     "name": "stdout",
     "output_type": "stream",
     "text": [
      "الجمهورية اللبنانية\n",
      "\n",
      "وزارة الداخلية بطاقة هوية 2 ظ\n",
      "الاسم : ياسميين\n",
      "\n",
      "الشهرة: العمري\n",
      "\n",
      "اسم الاب : محمد\n",
      "\n",
      "عل الود ا\n",
      "تاريخ الولادة:4 ‎١951//11/1١‏\n",
      "\n",
      "رما اباي ار\n",
      "توقيع صاحب العلاقة. ‎٠‏ سسصسر :\n",
      "\n",
      "\n"
     ]
    }
   ],
   "source": [
    "print(text)"
   ]
  },
  {
   "cell_type": "code",
   "execution_count": 15,
   "id": "7c329e76",
   "metadata": {},
   "outputs": [],
   "source": [
    "img=cv2.imread(r\"C:\\Users\\MY PC\\Desktop\\flags\\5.jpg\")"
   ]
  },
  {
   "cell_type": "code",
   "execution_count": 16,
   "id": "83832814",
   "metadata": {},
   "outputs": [],
   "source": [
    "text=pytesseract.image_to_string(img,lang=\"ara\")"
   ]
  },
  {
   "cell_type": "code",
   "execution_count": 17,
   "id": "ec85001e",
   "metadata": {},
   "outputs": [
    {
     "name": "stdout",
     "output_type": "stream",
     "text": [
      "اوور ية اللجاية\n",
      "\n",
      "وزار اللذاخلية بطاقة هوية\n",
      "الاسم: أومري رسول الله\n",
      "الشهرة: سبيلمن\n",
      "اسم الاب: ويلي لي\n",
      "اسم الام وشهرها: تريزيقا .توانيتا جونز\n",
      "\n",
      "محل محوع كا كليفلئك\n",
      "تاريخ الولادة: 017/91 ‎١9591//‏\n",
      "\n",
      "\n"
     ]
    }
   ],
   "source": [
    "print(text)"
   ]
  },
  {
   "cell_type": "code",
   "execution_count": 18,
   "id": "b2ff3f44",
   "metadata": {},
   "outputs": [],
   "source": [
    "img=cv2.imread(r\"C:\\Users\\MY PC\\Desktop\\flags\\18.webp\")"
   ]
  },
  {
   "cell_type": "code",
   "execution_count": 19,
   "id": "25179fb4",
   "metadata": {},
   "outputs": [],
   "source": [
    "text=pytesseract.image_to_string(img,lang=\"ara\")\n"
   ]
  },
  {
   "cell_type": "code",
   "execution_count": 20,
   "id": "4c638d9e",
   "metadata": {},
   "outputs": [
    {
     "name": "stdout",
     "output_type": "stream",
     "text": [
      "الجمهوريةاللبنانية\n",
      "\n",
      "بطاقة الهوية الوطنية\n",
      "\n",
      "الأسم : لازه0 لقا لالم لام ‎١ ١‏\n",
      "\n",
      "تاريخ الإصداز: 0015/0 ‎١1.61‏\n",
      "\n",
      "تاريخ الانتهاء : 68 5م.ءهة١‏\n",
      "\n",
      "قدالولا خهرات: ‎5٠١١١9575‏ 35\n",
      "\n",
      "ا 7 7 ال 2 التوقيع\n",
      "\n",
      "0 03\n",
      "١\n",
      "/\n",
      "\n",
      "\n"
     ]
    }
   ],
   "source": [
    "print(text)"
   ]
  },
  {
   "cell_type": "code",
   "execution_count": 21,
   "id": "1f41baa7",
   "metadata": {},
   "outputs": [],
   "source": [
    "img=cv2.imread(r\"C:\\Users\\MY PC\\Desktop\\flags\\19.webp\")"
   ]
  },
  {
   "cell_type": "code",
   "execution_count": 22,
   "id": "b3ba0d90",
   "metadata": {},
   "outputs": [],
   "source": [
    "text=pytesseract.image_to_string(img,lang=\"ara\")"
   ]
  },
  {
   "cell_type": "code",
   "execution_count": 87,
   "id": "d8f5a34d",
   "metadata": {},
   "outputs": [
    {
     "name": "stdout",
     "output_type": "stream",
     "text": [
      "الجمهورية اللبنانية\n",
      "وزارة الداخلية\n",
      "\n",
      "الاسم الأوسط .برو\n",
      "\n",
      "سالاب ‎١‏ برق\n",
      "\n",
      "منان الملاد . صيدل\n",
      "تريخ فرادة 15/08/1979\n",
      "\n",
      "لت نقد\n",
      "\n",
      "\n"
     ]
    }
   ],
   "source": [
    "print(text)"
   ]
  },
  {
   "cell_type": "code",
   "execution_count": 90,
   "id": "9366a4eb",
   "metadata": {},
   "outputs": [],
   "source": [
    "img=cv2.imread(r\"C:\\Users\\MY PC\\Desktop\\flags\\1.webp\")"
   ]
  },
  {
   "cell_type": "code",
   "execution_count": 91,
   "id": "13fdf5a1",
   "metadata": {},
   "outputs": [],
   "source": [
    "text=pytesseract.image_to_string(img,lang=\"ara\")"
   ]
  },
  {
   "cell_type": "code",
   "execution_count": 92,
   "id": "bd7c52d7",
   "metadata": {},
   "outputs": [
    {
     "name": "stdout",
     "output_type": "stream",
     "text": [
      "‎1١‏ لجمهو اللبئانية\n",
      "وذ 5 0 3\n",
      "الاسم : عمر\n",
      "الشهرة: العاصي\n",
      "اسم الاب :.حسين\n",
      "اسم الام وشهزكها : لظليفه البخاري\n",
      "\n",
      "‏محل الولادة ؛صيدا\n",
      "تاريخ الولادةبه 5[ وو\n",
      "\n",
      "‏ا 0م\n",
      "\n",
      "‏توقيع صاحب العلاقة\n",
      "\n"
     ]
    }
   ],
   "source": [
    "print(text)"
   ]
  },
  {
   "cell_type": "code",
   "execution_count": 99,
   "id": "bc93c91b",
   "metadata": {},
   "outputs": [],
   "source": [
    "img=cv2.imread(r\"C:\\Users\\MY PC\\Desktop\\flags\\2.jpg\")"
   ]
  },
  {
   "cell_type": "code",
   "execution_count": 100,
   "id": "b56b0186",
   "metadata": {},
   "outputs": [],
   "source": [
    "text=pytesseract.image_to_string(img,lang=\"ara\")"
   ]
  },
  {
   "cell_type": "code",
   "execution_count": 101,
   "id": "b773e3cc",
   "metadata": {},
   "outputs": [
    {
     "name": "stdout",
     "output_type": "stream",
     "text": [
      "رخصة سوق ار ا\n",
      "6انا10 00 ع0 :5281115 202 عكلقامقل 010 8نامع 8\n",
      "1615 16 الأاهم 00 ع0 علاقرامع8\n",
      "\n",
      "اذك\n",
      "\n",
      "رح 200057 ...ب وزارة الداخلية والبلديات -مينة إدارة السير والأليات والمركبات\n",
      "نورالدن 2 1\n",
      "18 ممع عناملا\n",
      "ماري جوزيفا 2 .2\n",
      "منامع 05ل - ع1 جما\"\n",
      "بيروت 88111 07/04/1963 2 .3\n",
      "2\n",
      "25 0بطه\n",
      "\n",
      "هيتة إدارة السير والاليات والمركيات .46\n",
      "68800558نا نبنانية .138\n",
      "\n",
      "مصطفى علي .136\n",
      "\n",
      "7< بناية عيلا شارع اد ونيس الحمرابير وت .8\n",
      "\n",
      "داريا 5 و راس بير وث مقابل جامع شاتيلا 6\n",
      "\n",
      "»*** #ع5قا 00011141 عي 0/< 616 1. 9\n",
      "لاقن للك كلكا تج م نا : جيجح جم جر طساوب م وساصسايم ومبم روج لامها حيصت م مسبسديح بح .---.\n",
      "\n",
      "5 ع5اقاتمقنا م\n",
      "وزارة الداخلية واللديات - لس عفد امع 06 6نامع\n",
      "\n",
      "إيطية فسيميويد يناده عصعس جوتعح» #مدبييزة يننا مين بيعي\n",
      "\n",
      "اذك\n",
      "\n",
      "يبعت\n",
      "م\n",
      "0\n",
      "\n",
      "\n"
     ]
    }
   ],
   "source": [
    "print(text)"
   ]
  },
  {
   "cell_type": "code",
   "execution_count": 148,
   "id": "2b7a3c2e",
   "metadata": {},
   "outputs": [],
   "source": [
    "img=cv2.imread(r\"C:\\Users\\MY PC\\Desktop\\flags\\25.webp\")"
   ]
  },
  {
   "cell_type": "code",
   "execution_count": 149,
   "id": "3fae3216",
   "metadata": {},
   "outputs": [],
   "source": [
    "text=pytesseract.image_to_string(img,lang=\"ara\")"
   ]
  },
  {
   "cell_type": "code",
   "execution_count": 150,
   "id": "fa58d2d8",
   "metadata": {
    "scrolled": true
   },
   "outputs": [
    {
     "name": "stdout",
     "output_type": "stream",
     "text": [
      "ديه زخصة سير مركبة آلبة ل ل ذه\n",
      "\n",
      "وزارة الداخلية ة والنلديات ‏ مينة 0-0 والاليات وا\n",
      "مصلحة تسجيل السيارا”\n",
      "\n",
      "اليات\n",
      "\n",
      "09 5 2 2\n",
      "إسم.وشهيرة امالك جورج اليس اقاطرجي\n",
      "\n",
      "محل الإقسامية المثن- المتصوريه< حي العين- ش داخلي بناية ايلي ضو -ط1\n",
      "\n",
      "تاريخ الملبكيّة 25/01/2017\n",
      "تاريخ وضعها 2# السَير لأول مزة ‏ 2017\n",
      "رقم: 2687551 - إصدار: 25/01/2017\n",
      "\n",
      "عاباء اطقلا عل وماغمانء اه دممم اك عامدع ‎١‏ ليه ممتتهنواهوج\n",
      "\n",
      "0 0 08 81015ع8 3 زعت ات\n",
      "\n",
      "عست 6اا/امهم 0 مقع ع0 علاقنامعم8\n",
      "\n",
      "7\n",
      "\n",
      "سسسب .رسب ...سن وزارة الداخلية والبلديات مينة إدارة السير والأليات والمركبات\n",
      "قاطرجي\n",
      "ال كنا\n",
      "جورج ‏ 22\n",
      "020965\n",
      "\n",
      "تل عباس 06/03/1991 :3\n",
      "02\n",
      "\n",
      "7 :اناك\n",
      "\n",
      "هينة إدارة السير لا:066©0© 2 46\n",
      "ع5ع دوعا لبنانية. 13\n",
      "الياس .136\n",
      "\n",
      "المنصوريه 2 8\n",
      "\n",
      "9 7/8\n",
      "\n"
     ]
    }
   ],
   "source": [
    "print(text)"
   ]
  },
  {
   "cell_type": "code",
   "execution_count": 29,
   "id": "5ba64785",
   "metadata": {},
   "outputs": [
    {
     "name": "stdout",
     "output_type": "stream",
     "text": [
      "Extracted Data:\n",
      "Name: : ياسميين\n",
      "\n",
      "الشهرة: العمري\n",
      "\n",
      "اسم الاب : محمد\n",
      "\n",
      "عل الود ا\n",
      "تا\n",
      "Address: : محمد\n",
      "\n",
      "عل الود ا\n",
      "تاريخ الولادة:4 ‎١951//11/1١‏\n",
      "\n",
      "رما اباي ار\n",
      "توقيع صاحب العلاقة. ‎٠‏ سسصسر :\n",
      "Date of Birth: :4 ‎١951//11/1١‏\n",
      "\n",
      "رما اباي ار\n",
      "توقيع صاحب العلاقة. ‎٠‏ سسصسر :\n"
     ]
    }
   ],
   "source": [
    "# Define keywords to identify fields\n",
    "field_keywords = {\n",
    "    'name': ['الاسم'],\n",
    "    'address': ['اسم الاب'],\n",
    "    'dob': ['تاريخ الولادة']\n",
    "}\n",
    "\n",
    "# Extract specific fields based on keywords\n",
    "data = {}\n",
    "for field, keywords in field_keywords.items():\n",
    "    for keyword in keywords:\n",
    "        if keyword in text.lower():\n",
    "            start_index = text.lower().index(keyword)\n",
    "            end_index = start_index + len(keyword)\n",
    "            actual_text = text[end_index:].strip()\n",
    "           \n",
    "           \n",
    " \n",
    "           \n",
    "            data[field] = actual_text[:end_index].strip()\n",
    "            break\n",
    "\n",
    "# Print the extracted data\n",
    "print(\"Extracted Data:\")\n",
    "print(\"Name:\", data.get('name', 'Not found'))\n",
    "print(\"Address:\", data.get('address', 'Not found'))\n",
    "print(\"Date of Birth:\", data.get('dob', 'Not found'))\n",
    "\n",
    "\n",
    "\n",
    "\n"
   ]
  },
  {
   "cell_type": "code",
   "execution_count": null,
   "id": "fa6641e3",
   "metadata": {},
   "outputs": [],
   "source": []
  },
  {
   "cell_type": "code",
   "execution_count": null,
   "id": "38bb40f1",
   "metadata": {},
   "outputs": [],
   "source": []
  }
 ],
 "metadata": {
  "kernelspec": {
   "display_name": "Python 3 (ipykernel)",
   "language": "python",
   "name": "python3"
  },
  "language_info": {
   "codemirror_mode": {
    "name": "ipython",
    "version": 3
   },
   "file_extension": ".py",
   "mimetype": "text/x-python",
   "name": "python",
   "nbconvert_exporter": "python",
   "pygments_lexer": "ipython3",
   "version": "3.10.9"
  }
 },
 "nbformat": 4,
 "nbformat_minor": 5
}
