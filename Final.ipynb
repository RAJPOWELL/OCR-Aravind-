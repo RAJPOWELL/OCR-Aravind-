{
 "cells": [
  {
   "cell_type": "code",
   "execution_count": 1,
   "metadata": {},
   "outputs": [],
   "source": [
    "# Cell 1: Import necessary libraries\n",
    "import pytesseract\n",
    "import cv2"
   ]
  },
  {
   "cell_type": "code",
   "execution_count": 2,
   "metadata": {},
   "outputs": [],
   "source": [
    "# Cell 2: Set path to the Tesseract executable\n",
    "pytesseract.pytesseract.tesseract_cmd = \"/usr/bin/tesseract\""
   ]
  },
  {
   "cell_type": "code",
   "execution_count": 3,
   "metadata": {},
   "outputs": [],
   "source": [
    "# Cell 3: Read the input image\n",
    "img_path = \"/home/raj/Temp/Aravind/for raj/flags/5.jpg\"\n",
    "img = cv2.imread(img_path)"
   ]
  },
  {
   "cell_type": "code",
   "execution_count": 4,
   "metadata": {},
   "outputs": [],
   "source": [
    "# Cell 4: Perform OCR on the image\n",
    "text = pytesseract.image_to_string(img, lang=\"ara\")"
   ]
  },
  {
   "cell_type": "code",
   "execution_count": 5,
   "metadata": {},
   "outputs": [],
   "source": [
    "# Cell 5: Define keywords to identify fields\n",
    "field_keywords = {\n",
    "    'name': ['الاسم'],\n",
    "    'address': ['اسم الاب'],\n",
    "    'dob': ['تاريخ الولادة']\n",
    "}"
   ]
  },
  {
   "cell_type": "code",
   "execution_count": 6,
   "metadata": {},
   "outputs": [],
   "source": [
    "# Cell 6: Extract specific fields based on keywords\n",
    "data = {}\n",
    "for field, keywords in field_keywords.items():\n",
    "    for keyword in keywords:\n",
    "        if keyword in text.lower():\n",
    "            start_index = text.lower().index(keyword)\n",
    "            end_index = start_index + len(keyword)\n",
    "            actual_text = text[end_index:].strip()\n",
    "            data[field] = actual_text[:end_index].strip()\n",
    "            break"
   ]
  },
  {
   "cell_type": "code",
   "execution_count": 7,
   "metadata": {},
   "outputs": [
    {
     "name": "stdout",
     "output_type": "stream",
     "text": [
      "Extracted Data:\n",
      "Name: : أومري رسول الله\n",
      "الشهرة: سبيلمن\n",
      "اسم الاب: ويلي\n",
      "Address: : ويلي لي\n",
      "اسم الام وشهرها: تريزيقا .توانيتا جونز\n",
      "\n",
      "محل مع كا كليفلتك\n",
      "تاريخ الولادة:9591//.\n",
      "Date of Birth: :9591//.17//91١‏\n"
     ]
    }
   ],
   "source": [
    "# Cell 7: Print the extracted data\n",
    "print(\"Extracted Data:\")\n",
    "print(\"Name:\", data.get('name', 'Not found'))\n",
    "print(\"Address:\", data.get('address', 'Not found'))\n",
    "print(\"Date of Birth:\", data.get('dob', 'Not found'))"
   ]
  }
 ],
 "metadata": {
  "kernelspec": {
   "display_name": "AML",
   "language": "python",
   "name": "python3"
  },
  "language_info": {
   "codemirror_mode": {
    "name": "ipython",
    "version": 3
   },
   "file_extension": ".py",
   "mimetype": "text/x-python",
   "name": "python",
   "nbconvert_exporter": "python",
   "pygments_lexer": "ipython3",
   "version": "3.6.13"
  }
 },
 "nbformat": 4,
 "nbformat_minor": 2
}
